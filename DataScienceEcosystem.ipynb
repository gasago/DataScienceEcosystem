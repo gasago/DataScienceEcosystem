{
 "cells": [
  {
   "cell_type": "markdown",
   "id": "6c00e4de-5ae6-4342-91eb-0adc64537161",
   "metadata": {},
   "source": [
    "<h1>Data Science Tools and Ecosystem<h1>"
   ]
  },
  {
   "cell_type": "markdown",
   "id": "a8a26c51-f8de-41a3-ae50-5237f0f36f5b",
   "metadata": {},
   "source": [
    "In this notebook, Data Science Tools and Ecosystem are summarized."
   ]
  },
  {
   "cell_type": "markdown",
   "id": "7938bf96-8bf5-4e6f-981a-e83a763aef4b",
   "metadata": {},
   "source": [
    "Some of the popular languages that Data Scientists use are:\n",
    "-Python\n",
    "-R\n",
    "-Julia"
   ]
  },
  {
   "cell_type": "markdown",
   "id": "aa692fc8-5e41-41af-ae03-3adee3daa022",
   "metadata": {},
   "source": [
    "Some of the commonly used libraries used by Data Scientists include:\n",
    "- NumPy\n",
    "- Scikit-learn\n",
    "- Pandas"
   ]
  },
  {
   "cell_type": "markdown",
   "id": "5fb6a751-5672-46ab-a6f1-6f83ce9fbac7",
   "metadata": {},
   "source": [
    "Objectives:\n",
    "- Some of the popular languages that Data Scientists use\n",
    "- Some of the commonly used libraries used by Data Scientists\n",
    "- List popular languages for Data Science"
   ]
  },
  {
   "cell_type": "markdown",
   "id": "c0566a5b-5daa-4a93-a741-779627983c14",
   "metadata": {},
   "source": [
    "| Data Science Tools |\n",
    "| :- | -: | :-: |\n",
    "| Apache Spark |\n",
    "| :- | -: | :-: |\n",
    "| TensorFlow |\n",
    "| :- | -: | :-: |\n",
    "| MLflow |"
   ]
  },
  {
   "cell_type": "markdown",
   "id": "655441b8-f4a9-4e36-b1d7-74d113444233",
   "metadata": {},
   "source": [
    "<h3>Below are a few examples of evaluating arithmetic expressions in Python<h3>"
   ]
  },
  {
   "cell_type": "code",
   "execution_count": 1,
   "id": "661c8ebe-0c6e-4e4d-839f-c9947aa7dcf0",
   "metadata": {},
   "outputs": [
    {
     "data": {
      "text/plain": [
       "17"
      ]
     },
     "execution_count": 1,
     "metadata": {},
     "output_type": "execute_result"
    }
   ],
   "source": [
    "(3*4)+5"
   ]
  },
  {
   "cell_type": "markdown",
   "id": "1bd700c2-937c-4d6e-bfbf-f4ccfa56daf9",
   "metadata": {},
   "source": [
    "This a simple arithmetic expression to mutiply then add integers"
   ]
  },
  {
   "cell_type": "code",
   "execution_count": 2,
   "id": "39a43194-77f4-403e-80ba-5c74bfe9b73f",
   "metadata": {},
   "outputs": [
    {
     "data": {
      "text/plain": [
       "3.3333333333333335"
      ]
     },
     "execution_count": 2,
     "metadata": {},
     "output_type": "execute_result"
    }
   ],
   "source": [
    "200 / 60"
   ]
  },
  {
   "cell_type": "markdown",
   "id": "8d525eb8-954a-4240-951a-5421bccc5420",
   "metadata": {},
   "source": [
    "This will convert 200 minutes to hours by diving by 60"
   ]
  },
  {
   "cell_type": "markdown",
   "id": "e86c6c88-926f-4ab0-b9ae-98ad19191605",
   "metadata": {},
   "source": [
    "<h2> Author: Gabriel Salazar Gomez <h2>"
   ]
  }
 ],
 "metadata": {
  "kernelspec": {
   "display_name": "Python 3 (ipykernel)",
   "language": "python",
   "name": "python3"
  },
  "language_info": {
   "codemirror_mode": {
    "name": "ipython",
    "version": 3
   },
   "file_extension": ".py",
   "mimetype": "text/x-python",
   "name": "python",
   "nbconvert_exporter": "python",
   "pygments_lexer": "ipython3",
   "version": "3.11.5"
  }
 },
 "nbformat": 4,
 "nbformat_minor": 5
}
